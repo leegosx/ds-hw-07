{
  "cells": [
    {
      "cell_type": "code",
      "execution_count": null,
      "metadata": {
        "id": "9Kk51SGbZhXJ"
      },
      "outputs": [],
      "source": [
        "!pip install scikit-surprise\n",
        "# !conda install -y -c conda-forge scikit-surprise # If you use conda on a non-Colab environment\n",
        "import pandas as pd\n",
        "from surprise import SVD, SVDpp, NMF\n",
        "from surprise import Dataset\n",
        "from surprise.model_selection import cross_validate, train_test_split\n",
        "\n",
        "# Load the movielens-100k dataset (download it if needed),\n",
        "data = Dataset.load_builtin(name='ml-100k', prompt=False)\n",
        "\n",
        "# Or if you'd rather, comment the above line and uncomment the below line\n",
        "# for a larger data set, while anticipating longer training times.\n",
        "\n",
        "# data = Dataset.load_builtin(name='ml-1M', prompt=False)\n",
        "\n",
        "# We'll create for use the famous SVD algorithms.\n",
        "algo = [SVD(), SVDpp(), NMF()]"
      ]
    },
    {
      "cell_type": "markdown",
      "source": [
        "# SVD Algorithm"
      ],
      "metadata": {
        "id": "vktlzL1qEsBk"
      }
    },
    {
      "cell_type": "code",
      "source": [
        "SVD_result = cross_validate(algo[0], data, measures=['RMSE', 'MAE'], cv=5, verbose=True)\n",
        "SVD_result = pd.DataFrame.from_dict(SVD_result).mean(axis=0)"
      ],
      "metadata": {
        "id": "U5vrPf8ZEvFW"
      },
      "execution_count": null,
      "outputs": []
    },
    {
      "cell_type": "markdown",
      "source": [
        "# SVDpp Algorithm"
      ],
      "metadata": {
        "id": "jfQ6qpIAC9J7"
      }
    },
    {
      "cell_type": "code",
      "source": [
        "SVDpp_result = cross_validate(algo[1], data, measures=['RMSE', 'MAE'], cv=5, verbose=True)\n",
        "SVDpp_result = pd.DataFrame.from_dict(SVDpp_result).mean(axis=0)"
      ],
      "metadata": {
        "id": "HlKi8DclDCJP"
      },
      "execution_count": null,
      "outputs": []
    },
    {
      "cell_type": "markdown",
      "source": [
        "# NMF Algorithm"
      ],
      "metadata": {
        "id": "C0mGYhFNECJc"
      }
    },
    {
      "cell_type": "code",
      "source": [
        "NMF_result = cross_validate(algo[2], data, measures=['RMSE', 'MAE'], cv=5, verbose=True)\n",
        "NMF_result = pd.DataFrame.from_dict(NMF_result).mean(axis=0)"
      ],
      "metadata": {
        "id": "XLzlyL9-ELjM"
      },
      "execution_count": null,
      "outputs": []
    },
    {
      "cell_type": "markdown",
      "source": [
        "# Comparison of results"
      ],
      "metadata": {
        "id": "o2CPrzkmGSKA"
      }
    },
    {
      "cell_type": "code",
      "source": [
        "for model in algo:\n",
        "    print(f\"Evaluating {model.__class__.__name__}...\")\n",
        "    results = cross_validate(model, data, measures=['RMSE'], cv=3, verbose=True)\n",
        "    mean_rmse = sum(results['test_rmse']) / len(results['test_rmse'])\n",
        "    print(f\"Average RMSE for {model.__class__.__name__}: {mean_rmse}\\n\")\n",
        "\n"
      ],
      "metadata": {
        "id": "XsOMKp5EGZUD"
      },
      "execution_count": null,
      "outputs": []
    },
    {
      "cell_type": "markdown",
      "source": [
        "# Get train and test data"
      ],
      "metadata": {
        "id": "XW-XcTbRKRVw"
      }
    },
    {
      "cell_type": "code",
      "source": [
        "train_data, test_data = train_test_split(data, test_size=0.25)\n",
        "predict_svd = algo[0].fit(train_data).test(test_data)\n",
        "predict_svdpp = algo[1].fit(train_data).test(test_data)\n",
        "predict_nmf = algo[2].fit(train_data).test(test_data)\n",
        "print('SVD prediction:\\n', predict_svd[:5])\n",
        "print('SVD++ prediction:\\n', predict_svdpp[:5])\n",
        "print('NMF prediction:\\n', predict_nmf[:5])"
      ],
      "metadata": {
        "id": "XImmwphHKbAR"
      },
      "execution_count": null,
      "outputs": []
    }
  ],
  "metadata": {
    "colab": {
      "private_outputs": true,
      "provenance": []
    },
    "kernelspec": {
      "display_name": "Python 3 (ipykernel)",
      "language": "python",
      "name": "python3"
    },
    "language_info": {
      "codemirror_mode": {
        "name": "ipython",
        "version": 3
      },
      "file_extension": ".py",
      "mimetype": "text/x-python",
      "name": "python",
      "nbconvert_exporter": "python",
      "pygments_lexer": "ipython3",
      "version": "3.9.2"
    }
  },
  "nbformat": 4,
  "nbformat_minor": 0
}